{
  "nbformat": 4,
  "nbformat_minor": 0,
  "metadata": {
    "colab": {
      "name": "DeepComedy.ipynb",
      "provenance": [],
      "collapsed_sections": []
    },
    "kernelspec": {
      "display_name": "Python 3",
      "language": "python",
      "name": "python3"
    }
  },
  "cells": [
    {
      "cell_type": "markdown",
      "metadata": {
        "id": "n8bg-vup0iWu",
        "colab_type": "text"
      },
      "source": [
        "## **0. Preliminary Settings**"
      ]
    },
    {
      "cell_type": "markdown",
      "metadata": {
        "id": "DjtD5j6P5TzW",
        "colab_type": "text"
      },
      "source": [
        "First of all, we need to clone the repository to get access to the code and use utility functions inside the notebook"
      ]
    },
    {
      "cell_type": "code",
      "metadata": {
        "id": "In6Aynn15SAK",
        "colab_type": "code",
        "colab": {
          "base_uri": "https://localhost:8080/",
          "height": 144
        },
        "outputId": "e86ed8b8-f772-453b-f4bc-bbcfd8436669"
      },
      "source": [
        "!git clone https://github.com/mazzio97/DeepComedy.git\n",
        "\n",
        "project_path = 'DeepComedy/'"
      ],
      "execution_count": null,
      "outputs": [
        {
          "output_type": "stream",
          "text": [
            "Cloning into 'DeepComedy'...\n",
            "remote: Enumerating objects: 672, done.\u001b[K\n",
            "remote: Counting objects: 100% (672/672), done.\u001b[K\n",
            "remote: Compressing objects: 100% (350/350), done.\u001b[K\n",
            "remote: Total 672 (delta 397), reused 567 (delta 293), pack-reused 0\u001b[K\n",
            "Receiving objects: 100% (672/672), 24.24 MiB | 30.24 MiB/s, done.\n",
            "Resolving deltas: 100% (397/397), done.\n"
          ],
          "name": "stdout"
        }
      ]
    },
    {
      "cell_type": "markdown",
      "metadata": {
        "id": "SNTAI4EH1UvX",
        "colab_type": "text"
      },
      "source": [
        "This folder is then added to the system path so that the modules can be used inside the notebook"
      ]
    },
    {
      "cell_type": "code",
      "metadata": {
        "id": "qs_mxpvExrY7",
        "colab_type": "code",
        "colab": {}
      },
      "source": [
        "import sys\n",
        "\n",
        "sys.path.append(project_path + 'src')"
      ],
      "execution_count": null,
      "outputs": []
    },
    {
      "cell_type": "markdown",
      "metadata": {
        "id": "0hne6FCq1ZKZ",
        "colab_type": "text"
      },
      "source": [
        "Finally, the *Divine Comedy* is loaded and stored in a variable"
      ]
    },
    {
      "cell_type": "code",
      "metadata": {
        "id": "EOofZ_881Z2X",
        "colab_type": "code",
        "colab": {
          "base_uri": "https://localhost:8080/",
          "height": 471
        },
        "outputId": "70b7dac9-b434-4106-eb1c-44b8f5b31a6b"
      },
      "source": [
        "with open(project_path + 'res/divine_comedy.txt', 'r', encoding='ISO-8859-1') as f:\n",
        "  divine_comedy = f.read()\n",
        "\n",
        "print(divine_comedy[:231])\n",
        "print('\\n\\n[...]\\n\\n')\n",
        "print(divine_comedy[-266:])"
      ],
      "execution_count": null,
      "outputs": [
        {
          "output_type": "stream",
          "text": [
            "INFERNO\n",
            "\n",
            "- Canto I\n",
            "\n",
            "Nel mezzo del cammin di nostra vita\n",
            "mi ritrovai per una selva oscura,\n",
            "ché la diritta via era smarrita.\n",
            "\n",
            "Ahi quanto a dir qual era è cosa dura\n",
            "esta selva selvaggia e aspra e forte\n",
            "che nel pensier rinova la paura!\n",
            "\n",
            "\n",
            "[...]\n",
            "\n",
            "\n",
            "ma non eran da ciò le proprie penne:\n",
            "se non che la mia mente fu percossa\n",
            "da un fulgore in che sua voglia venne.\n",
            "\n",
            "A l'alta fantasia qui mancò possa;\n",
            "ma già volgeva il mio disio e 'l velle,\n",
            "sì come rota ch'igualmente è mossa,\n",
            "\n",
            "l'amor che move il sole e l'altre stelle.\n"
          ],
          "name": "stdout"
        }
      ]
    },
    {
      "cell_type": "markdown",
      "metadata": {
        "id": "RIV2vg39xPYb",
        "colab_type": "text"
      },
      "source": [
        "Also, we set seeds for Python, Numpy/Keras and Tensorflow to guarantee the maximal level of reproducibility\n",
        "\n",
        "> Though, the results could still differ a little bit due to other randomized routines called during the execution and the inner stochasticity introduced by parallel computing"
      ]
    },
    {
      "cell_type": "code",
      "metadata": {
        "id": "0kGuzr3KxQLY",
        "colab_type": "code",
        "colab": {}
      },
      "source": [
        "import random\n",
        "import numpy as np\n",
        "import tensorflow as tf\n",
        "\n",
        "random.seed(0)\n",
        "np.random.seed(0)\n",
        "tf.random.set_seed(0)"
      ],
      "execution_count": null,
      "outputs": []
    },
    {
      "cell_type": "markdown",
      "metadata": {
        "id": "QsjTDW5425qP",
        "colab_type": "text"
      },
      "source": [
        "## **1. Data Processing**"
      ]
    },
    {
      "cell_type": "markdown",
      "metadata": {
        "id": "IsGmnOvt4FDs",
        "colab_type": "text"
      },
      "source": [
        "### ***1.1 Text Mark***\n",
        "\n",
        "We use the provided function `mark` to map the original *Divine Comedy* into a marked version containing:\n",
        "\n",
        "* a marker both at the beginning and at the end of each *cantica*\n",
        "\n",
        "* a marker both at the beginning and at the end of each *canto*\n",
        "\n",
        "* a marker between each couple of *tercets*"
      ]
    },
    {
      "cell_type": "code",
      "metadata": {
        "id": "-p6yoy-N17hj",
        "colab_type": "code",
        "colab": {
          "base_uri": "https://localhost:8080/",
          "height": 508
        },
        "outputId": "27dbff4d-44cc-4a45-d85c-e9b5f4524ae1"
      },
      "source": [
        "from text_processing.markers import mark\n",
        "\n",
        "divine_comedy_marked = mark(divine_comedy)\n",
        "print(divine_comedy_marked[:260])\n",
        "print('\\n\\n[...]\\n\\n')\n",
        "print(divine_comedy_marked[-319:])"
      ],
      "execution_count": null,
      "outputs": [
        {
          "output_type": "stream",
          "text": [
            "=startofcantica=\n",
            "=startofcanto=\n",
            "Nel mezzo del cammin di nostra vita\n",
            "mi ritrovai per una selva oscura,\n",
            "ché la diritta via era smarrita.\n",
            "=tercet=\n",
            "Ahi quanto a dir qual era è cosa dura\n",
            "esta selva selvaggia e aspra e forte\n",
            "che nel pensier rinova la paura!\n",
            "=tercet=\n",
            "\n",
            "\n",
            "[...]\n",
            "\n",
            "\n",
            "=tercet=\n",
            "ma non eran da ciò le proprie penne:\n",
            "se non che la mia mente fu percossa\n",
            "da un fulgore in che sua voglia venne.\n",
            "=tercet=\n",
            "A l'alta fantasia qui mancò possa;\n",
            "ma già volgeva il mio disio e 'l velle,\n",
            "sì come rota ch'igualmente è mossa,\n",
            "=tercet=\n",
            "l'amor che move il sole e l'altre stelle.\n",
            "=endofcanto=\n",
            "=endofcantica=\n"
          ],
          "name": "stdout"
        }
      ]
    },
    {
      "cell_type": "markdown",
      "metadata": {
        "id": "Y5yz_cPdAWEO",
        "colab_type": "text"
      },
      "source": [
        "### ***1.2 Extracting the Verses***\n",
        "\n",
        "We want to build a dataset in which the input sequence represents a piece of the *Divine Comedy* going from verse *i* to verse *i+n* and the target sequence represents a piece of the *Divine Comedy* going from verse *i* to verse *i+n+1*, thus we need at first to split the dataset and get a list of verses"
      ]
    },
    {
      "cell_type": "code",
      "metadata": {
        "id": "QK_reSlvAWXq",
        "colab_type": "code",
        "colab": {
          "base_uri": "https://localhost:8080/",
          "height": 380
        },
        "outputId": "091504c4-ee85-4aea-846d-8d3d7334a3d1"
      },
      "source": [
        "divine_comedy_split = divine_comedy_marked.split('\\n')\n",
        "\n",
        "for i, verse in enumerate(divine_comedy_split[:20]):\n",
        "  print(f'{i+1:02} --> {verse}')"
      ],
      "execution_count": null,
      "outputs": [
        {
          "output_type": "stream",
          "text": [
            "01 --> =startofcantica=\n",
            "02 --> =startofcanto=\n",
            "03 --> Nel mezzo del cammin di nostra vita\n",
            "04 --> mi ritrovai per una selva oscura,\n",
            "05 --> ché la diritta via era smarrita.\n",
            "06 --> =tercet=\n",
            "07 --> Ahi quanto a dir qual era è cosa dura\n",
            "08 --> esta selva selvaggia e aspra e forte\n",
            "09 --> che nel pensier rinova la paura!\n",
            "10 --> =tercet=\n",
            "11 --> Tant' è amara che poco è più morte;\n",
            "12 --> ma per trattar del ben ch'i' vi trovai,\n",
            "13 --> dirò de l'altre cose ch'i' v'ho scorte.\n",
            "14 --> =tercet=\n",
            "15 --> Io non so ben ridir com' i' v'intrai,\n",
            "16 --> tant' era pien di sonno a quel punto\n",
            "17 --> che la verace via abbandonai.\n",
            "18 --> =tercet=\n",
            "19 --> Ma poi ch'i' fui al piè d'un colle giunto,\n",
            "20 --> là dove terminava quella valle\n"
          ],
          "name": "stdout"
        }
      ]
    },
    {
      "cell_type": "code",
      "metadata": {
        "id": "kRn35ESvEWun",
        "colab_type": "code",
        "colab": {
          "base_uri": "https://localhost:8080/",
          "height": 35
        },
        "outputId": "564d9099-7d69-494d-cd38-c40cf1ad5683"
      },
      "source": [
        "print(len(divine_comedy_split))"
      ],
      "execution_count": null,
      "outputs": [
        {
          "output_type": "stream",
          "text": [
            "19150\n"
          ],
          "name": "stdout"
        }
      ]
    },
    {
      "cell_type": "markdown",
      "metadata": {
        "id": "TJEMLEjQ8sia",
        "colab_type": "text"
      },
      "source": [
        "### ***1.3 Building the Dataset***\n",
        "\n",
        "As we know what is the rhyming scheme of the *Divine Comedy*, we know that we will need at least the last *3* verses (*3 actual verses or 2 actual verses + 1 marker verse to indicate the end of the tercet*) to predict a correct fourth one, so we set `seq_length = 3`\n",
        "\n",
        "> Differently from single-token models, here we have a lower amount of samples and a greater variability (indeed, the dataset is less dense), thus we can choose a `step_length` of *1* and a larger `train_val_split`"
      ]
    },
    {
      "cell_type": "code",
      "metadata": {
        "id": "p4M_wr57FK5j",
        "colab_type": "code",
        "colab": {
          "base_uri": "https://localhost:8080/",
          "height": 53
        },
        "outputId": "001fbf9d-d632-4756-ee85-2e37c9e819c0"
      },
      "source": [
        "seq_length = 3\n",
        "step_length = 1\n",
        "batch_size = 64\n",
        "train_val_split = 0.7\n",
        "\n",
        "tot_samples = int((len(divine_comedy_split) - seq_length) / step_length)\n",
        "train_samples = round(tot_samples * train_val_split)\n",
        "\n",
        "print('Train Samples:', train_samples)\n",
        "print('  Val Samples:', tot_samples - train_samples)"
      ],
      "execution_count": null,
      "outputs": [
        {
          "output_type": "stream",
          "text": [
            "Train Samples: 13403\n",
            "  Val Samples: 5744\n"
          ],
          "name": "stdout"
        }
      ]
    },
    {
      "cell_type": "markdown",
      "metadata": {
        "id": "S6yDuoRZEa0a",
        "colab_type": "text"
      },
      "source": [
        "Now, we map the list of verses into a dataset taking *4* verses per time, and splitting them into an input string of the first *3* verses and a target string of all the verses"
      ]
    },
    {
      "cell_type": "code",
      "metadata": {
        "id": "ePAQw8Pk75zq",
        "colab_type": "code",
        "colab": {}
      },
      "source": [
        "from tensorflow.data import Dataset\n",
        "from tensorflow.strings import reduce_join\n",
        "\n",
        "def split_input_target(chunk):\n",
        "  input_text = reduce_join(chunk[:-1], separator='\\n') + '\\n'\n",
        "  target_text = reduce_join(chunk, separator='\\n') + '\\n'\n",
        "  return input_text, target_text\n",
        "\n",
        "dataset = Dataset.from_tensor_slices(divine_comedy_split)\n",
        "dataset = dataset.window(seq_length + 1, step_length, drop_remainder=True)\n",
        "dataset = dataset.flat_map(lambda window: window.batch(seq_length + 1))\n",
        "dataset = dataset.map(split_input_target).shuffle(tot_samples, seed=0)"
      ],
      "execution_count": null,
      "outputs": []
    },
    {
      "cell_type": "markdown",
      "metadata": {
        "id": "CgKUP6qNEiKo",
        "colab_type": "text"
      },
      "source": [
        "Finally, we encode each block of the comedy using the provided `subword_tokenizer` to tokenize the text into subwords, including punctuation\n",
        "\n",
        "> Some special tokens are reserved to the markers"
      ]
    },
    {
      "cell_type": "code",
      "metadata": {
        "id": "bE2RTrqY36ZE",
        "colab_type": "code",
        "colab": {
          "base_uri": "https://localhost:8080/",
          "height": 780
        },
        "outputId": "cf8cbaa3-57f8-4f7b-bddc-847b04c3f49c"
      },
      "source": [
        "from text_processing.tokenizers import subword_tokenizer\n",
        "\n",
        "tokenizer = subword_tokenizer(divine_comedy, target_vocab_size=2048, max_subword_length=3)\n",
        "print(tokenizer.vocab_size, 'tokens:')\n",
        "print()\n",
        "for i, token in enumerate(tokenizer.subwords[:40]):\n",
        "  print(\"'{}'\".format('\\\\n' if token == '\\n' else token))"
      ],
      "execution_count": null,
      "outputs": [
        {
          "output_type": "stream",
          "text": [
            "3373 tokens:\n",
            "\n",
            "'=tercet='\n",
            "'=startofcanto='\n",
            "'=endofcanto='\n",
            "'=startofcantica='\n",
            "'=endofcantica='\n",
            "'con'\n",
            "'to'\n",
            "'dis'\n",
            "'ta'\n",
            "'te'\n",
            "'ti'\n",
            "'tra'\n",
            "'chi'\n",
            "'si'\n",
            "'ent'\n",
            "'do'\n",
            "'and'\n",
            "'ia'\n",
            "'par'\n",
            "'se'\n",
            "'pre'\n",
            "'per'\n",
            "'no'\n",
            "'re'\n",
            "'acc'\n",
            "'ne'\n",
            "'cor'\n",
            "'pro'\n",
            "'ver'\n",
            "'na'\n",
            "'ar'\n",
            "'tor'\n",
            "'vol'\n",
            "'ndo'\n",
            "'com'\n",
            "'cia'\n",
            "'ven'\n",
            "'ra'\n",
            "'ro'\n",
            "'ett'\n"
          ],
          "name": "stdout"
        }
      ]
    },
    {
      "cell_type": "code",
      "metadata": {
        "id": "-wqwv8CZKppn",
        "colab_type": "code",
        "colab": {}
      },
      "source": [
        "def encode_dataset(input_dataset, target_dataset):\n",
        "  def encode_sample(input, target):\n",
        "    input = [tokenizer.vocab_size] + tokenizer.encode(input.numpy()) + [tokenizer.vocab_size+1]\n",
        "    target = [tokenizer.vocab_size] + tokenizer.encode(target.numpy()) + [tokenizer.vocab_size+1]\n",
        "    return input, target\n",
        "\n",
        "  input_dataset, target_dataset = tf.py_function(encode_sample, [input_dataset, target_dataset], [tf.int64, tf.int64])\n",
        "  input_dataset.set_shape([None])\n",
        "  target_dataset.set_shape([None])\n",
        "  return input_dataset, target_dataset\n",
        "\n",
        "train_dataset = dataset.take(train_samples).map(encode_dataset)\n",
        "train_dataset = train_dataset.cache()\n",
        "train_dataset = train_dataset.padded_batch(batch_size)\n",
        "train_dataset = train_dataset.prefetch(tf.data.experimental.AUTOTUNE)\n",
        "\n",
        "val_dataset = dataset.take(tot_samples - train_samples).map(encode_dataset)\n",
        "val_dataset = val_dataset.cache()\n",
        "val_dataset = val_dataset.padded_batch(batch_size)\n",
        "val_dataset = val_dataset.prefetch(tf.data.experimental.AUTOTUNE)"
      ],
      "execution_count": null,
      "outputs": []
    },
    {
      "cell_type": "code",
      "metadata": {
        "id": "3bZAWLNaJr93",
        "colab_type": "code",
        "colab": {
          "base_uri": "https://localhost:8080/",
          "height": 399
        },
        "outputId": "6d0c2752-5940-4de2-d893-f572b6b8f850"
      },
      "source": [
        "for input, target in train_dataset.take(1):\n",
        "  input = input.numpy()[0]\n",
        "  target = target.numpy()[0]\n",
        "\n",
        "  print(f'Input  Shape: {input.shape}')\n",
        "  print(f'Target Shape: {target.shape}')\n",
        "  print()\n",
        "\n",
        "  print('INPUT:\\n')\n",
        "  print(tokenizer.decode([token for token in input if token < tokenizer.vocab_size]))\n",
        "  print('\\n\\n---------------------\\n\\n')\n",
        "  print('TARGET:\\n')\n",
        "  print(tokenizer.decode([token for token in target if token < tokenizer.vocab_size]))"
      ],
      "execution_count": null,
      "outputs": [
        {
          "output_type": "stream",
          "text": [
            "Input  Shape: (71,)\n",
            "Target Shape: (79,)\n",
            "\n",
            "INPUT:\n",
            "\n",
            "così mi parve da luce rifratta\n",
            "quivi dinanzi a me esser percosso;\n",
            "per che a fuggir la mia vista fu ratta.\n",
            "\n",
            "\n",
            "\n",
            "---------------------\n",
            "\n",
            "\n",
            "TARGET:\n",
            "\n",
            "così mi parve da luce rifratta\n",
            "quivi dinanzi a me esser percosso;\n",
            "per che a fuggir la mia vista fu ratta.\n",
            "=tercet=\n",
            "\n"
          ],
          "name": "stdout"
        }
      ]
    },
    {
      "cell_type": "markdown",
      "metadata": {
        "id": "QLSm_SHYLPAd",
        "colab_type": "text"
      },
      "source": [
        "## **2. Model**"
      ]
    },
    {
      "cell_type": "markdown",
      "metadata": {
        "id": "1HQ5q_sIXMwh",
        "colab_type": "text"
      },
      "source": [
        "### ***2.1 Architecture***\n",
        "\n",
        "The ***Transformer*** is a state-of-the-art model for *Natural Language Processing* and *Machine Translation* tasks proposed by *Vaswani et al.* in 2017 (https://arxiv.org/pdf/1706.03762v5.pdf)\n",
        "\n",
        "* It consists of an *Encoder* and a *Decoder*, each of them made up of a given number of layers having two sub-modules: a *Multi-Head Attention* (with a parametric number of heads) sub-module and a classical *Feed-Foward* sub-module\n",
        "\n",
        "* Also, as it does not use recurrent layers to process strictly sequential data, it both process the input data with a standard token encoding and a *positional encoding* as well\n",
        "\n",
        "> The variable parameters of the model are:\n",
        "> * the number of layers for the *Encoder* and the *Decoder*\n",
        "> * the number of heads for the *Multi-Head Attention* sub-module\n",
        "> * the dimension of all sub-layers in the model, as well as the embedding layers, known as *d_model*\n",
        "> * the inner feed-forward dimension, known as *dff*\n",
        "> * the dropout rate"
      ]
    },
    {
      "cell_type": "code",
      "metadata": {
        "id": "lPZDGEeATZ7g",
        "colab_type": "code",
        "colab": {}
      },
      "source": [
        "from transformer.functions import *\n",
        "from transformer.model import *\n",
        "\n",
        "history = {'train loss': [], 'train acc': [], 'val loss': [], 'val acc': []}\n",
        "\n",
        "loss_object = tf.keras.losses.SparseCategoricalCrossentropy(from_logits=True, reduction='none')\n",
        "train_loss = tf.keras.metrics.Mean(name='train_loss')\n",
        "train_accuracy = tf.keras.metrics.SparseCategoricalAccuracy(name='train_accuracy')\n",
        "val_loss = tf.keras.metrics.Mean(name='val_loss')\n",
        "val_accuracy = tf.keras.metrics.SparseCategoricalAccuracy(name='val_accuracy')\n",
        "\n",
        "def loss_function(real, pred):\n",
        "    mask = tf.math.logical_not(tf.math.equal(real, 0))\n",
        "    loss_ = loss_object(real, pred)\n",
        "    mask = tf.cast(mask, dtype=loss_.dtype)\n",
        "    loss_ *= mask\n",
        "    return tf.reduce_sum(loss_) / tf.reduce_sum(mask)\n",
        "\n",
        "step_signature = [\n",
        "    tf.TensorSpec(shape=(None, None), dtype=tf.int64),\n",
        "    tf.TensorSpec(shape=(None, None), dtype=tf.int64),\n",
        "]\n",
        "\n",
        "@tf.function(input_signature=step_signature)\n",
        "def train_step(inp, tar):\n",
        "  tar_inp = tar[:, :-1]\n",
        "  tar_real = tar[:, 1:]\n",
        "  \n",
        "  enc_padding_mask, combined_mask, dec_padding_mask = create_masks(inp, tar_inp)\n",
        "  with tf.GradientTape() as tape:\n",
        "    predictions, _ = model(inp, tar_inp, True, enc_padding_mask, combined_mask, dec_padding_mask)\n",
        "    loss = loss_function(tar_real, predictions)\n",
        "\n",
        "  gradients = tape.gradient(loss, model.trainable_variables)    \n",
        "  optimizer.apply_gradients(zip(gradients, model.trainable_variables))\n",
        "  \n",
        "  train_loss(loss)\n",
        "  train_accuracy(tar_real, predictions)\n",
        "\n",
        "@tf.function(input_signature=step_signature)\n",
        "def val_step(inp, tar):\n",
        "  tar_inp = tar[:, :-1]\n",
        "  tar_real = tar[:, 1:]\n",
        "  \n",
        "  enc_padding_mask, combined_mask, dec_padding_mask = create_masks(inp, tar_inp)\n",
        "  with tf.GradientTape() as tape:\n",
        "    predictions, _ = model(inp, tar_inp, True, enc_padding_mask, combined_mask, dec_padding_mask)\n",
        "    loss = loss_function(tar_real, predictions)\n",
        "\n",
        "  val_loss(loss)\n",
        "  val_accuracy(tar_real, predictions)"
      ],
      "execution_count": null,
      "outputs": []
    },
    {
      "cell_type": "code",
      "metadata": {
        "id": "ViSIDkxHTa_b",
        "colab_type": "code",
        "colab": {
          "base_uri": "https://localhost:8080/",
          "height": 271
        },
        "outputId": "435e70e4-2049-41c1-e902-047a82b70fcc"
      },
      "source": [
        "from tensorflow.keras.optimizers import Adam\n",
        "\n",
        "num_layers = 3\n",
        "num_heads = 4\n",
        "d_model = 256\n",
        "dff = 512\n",
        "dropout = 0.2\n",
        "input_vocab_size = tokenizer.vocab_size + 2\n",
        "target_vocab_size = tokenizer.vocab_size + 2\n",
        "optimizer = Adam(CustomSchedule(d_model), beta_1=0.9, beta_2=0.98, epsilon=1e-9)\n",
        "\n",
        "model = Transformer(\n",
        "    num_layers, d_model, num_heads, dff,\n",
        "    input_vocab_size, target_vocab_size,\n",
        "    pe_input=input_vocab_size, pe_target=target_vocab_size,\n",
        "    rate=dropout\n",
        ")\n",
        "\n",
        "for (inp, tar) in train_dataset.take(1):\n",
        "  val_step(inp, tar)\n",
        "\n",
        "model.summary()"
      ],
      "execution_count": null,
      "outputs": [
        {
          "output_type": "stream",
          "text": [
            "Model: \"transformer\"\n",
            "_________________________________________________________________\n",
            "Layer (type)                 Output Shape              Param #   \n",
            "=================================================================\n",
            "encoder (Encoder)            multiple                  2445312   \n",
            "_________________________________________________________________\n",
            "decoder (Decoder)            multiple                  3236352   \n",
            "_________________________________________________________________\n",
            "dense_48 (Dense)             multiple                  867375    \n",
            "=================================================================\n",
            "Total params: 6,549,039\n",
            "Trainable params: 6,549,039\n",
            "Non-trainable params: 0\n",
            "_________________________________________________________________\n"
          ],
          "name": "stdout"
        }
      ]
    },
    {
      "cell_type": "markdown",
      "metadata": {
        "id": "sG39RjwxY-xB",
        "colab_type": "text"
      },
      "source": [
        "### ***2.2 Training***"
      ]
    },
    {
      "cell_type": "code",
      "metadata": {
        "id": "uyVQkUkHMXPI",
        "colab_type": "code",
        "colab": {
          "base_uri": "https://localhost:8080/",
          "height": 35
        },
        "outputId": "bc749a94-07be-469e-d21a-c2e636caca65"
      },
      "source": [
        "import os\n",
        "import time\n",
        "\n",
        "epochs = 0\n",
        "\n",
        "if os.path.isfile(project_path + 'model.h5'):\n",
        "  model.load_weights(project_path + 'model.h5')\n",
        "  print('Model restored')\n",
        "else:\n",
        "  epochs = 70\n",
        "  batches_interval = 20\n",
        "\n",
        "  for epoch in range(epochs):\n",
        "    start = time.time()\n",
        "    train_loss.reset_states()\n",
        "    train_accuracy.reset_states()\n",
        "    val_loss.reset_states()\n",
        "    val_accuracy.reset_states()\n",
        "    print(f'Starting Epoch {epoch+1}/{epochs}')\n",
        "    \n",
        "    for (batch, (inp, tar)) in enumerate(train_dataset):\n",
        "      train_step(inp, tar)\n",
        "      if (batch + 1) % batches_interval == 0:\n",
        "        print(f'  > Batch {batch+1}', end=' \\t\\t ')\n",
        "        print(f'- train_loss: {train_loss.result():.4f} - train_acc: {train_accuracy.result():.4f}')      \n",
        "    history['train loss'].append(train_loss.result())\n",
        "    history['train acc'].append(train_accuracy.result())\n",
        "\n",
        "    for (batch, (inp, tar)) in enumerate(val_dataset):\n",
        "      val_step(inp, tar)  \n",
        "    history['val loss'].append(val_loss.result())\n",
        "    history['val acc'].append(val_accuracy.result())\n",
        "\n",
        "    elapsed = time.time() - start\n",
        "    print(f'Ending Epoch {epoch+1}/{epochs}', end=' \\t ')\n",
        "    print(f'- train_loss: {history[\"train loss\"][-1]:.4f} - train_acc: {history[\"train acc\"][-1]:.4f}', end=' ')\n",
        "    print(f'- val_loss: {history[\"val loss\"][-1]:.4f} - val_acc: {history[\"val acc\"][-1]:.4f}')\n",
        "    print(f'Elapsed Time {elapsed:.2f}s\\n')"
      ],
      "execution_count": null,
      "outputs": [
        {
          "output_type": "stream",
          "text": [
            "Model restored\n"
          ],
          "name": "stdout"
        }
      ]
    },
    {
      "cell_type": "markdown",
      "metadata": {
        "id": "Nuvvp5hygYOv",
        "colab_type": "text"
      },
      "source": [
        "Here's a graphical representation of the improvement of the model, with respect both to the loss and the accuracy, across the epochs"
      ]
    },
    {
      "cell_type": "code",
      "metadata": {
        "id": "6GPN1Jo0gXpQ",
        "colab_type": "code",
        "colab": {
          "base_uri": "https://localhost:8080/",
          "height": 73
        },
        "outputId": "f4a10439-785f-49aa-a51c-dfaca281b8d4"
      },
      "source": [
        "import matplotlib.pyplot as plt\n",
        "import seaborn as sns\n",
        "\n",
        "sns.set_style('darkgrid')\n",
        "sns.set_context('notebook')\n",
        "\n",
        "if epochs > 0:\n",
        "  plt.figure(figsize=(12, 5))\n",
        "\n",
        "  plt.subplot(1, 2, 1)\n",
        "  plt.plot(np.arange(epochs) + 1, history['train loss'], label='train')\n",
        "  plt.plot(np.arange(epochs) + 1, history['val loss'], label='val')\n",
        "  plt.legend()\n",
        "  plt.title('Loss')\n",
        "\n",
        "  plt.subplot(1, 2, 2)\n",
        "  plt.plot(np.arange(epochs) + 1, history['train acc'], label='train')\n",
        "  plt.plot(np.arange(epochs) + 1, history['val acc'], label='val')\n",
        "  plt.legend()\n",
        "  plt.title('Accuracy')\n",
        "\n",
        "  plt.show()"
      ],
      "execution_count": null,
      "outputs": [
        {
          "output_type": "stream",
          "text": [
            "/usr/local/lib/python3.6/dist-packages/statsmodels/tools/_testing.py:19: FutureWarning: pandas.util.testing is deprecated. Use the functions in the public API at pandas.testing instead.\n",
            "  import pandas.util.testing as tm\n"
          ],
          "name": "stderr"
        }
      ]
    },
    {
      "cell_type": "markdown",
      "metadata": {
        "id": "TGKbUSPZZOw_",
        "colab_type": "text"
      },
      "source": [
        "## **3. Results**\n",
        "\n",
        "Here, at first, we will use the model to predict some verses and show the respective attention plots to understand how the model is behaving, then, we will proceed with the generation of a full canto, which uses a `temperature_factor` to allow some degree of randomness\n",
        "\n",
        "> The next token is chosen among a subset of those having a probability which is at least `1 / temperature_factor` with respect to the maximal one\n",
        "\n",
        "> It goes without saying that a higher `temperature_factor` leads to a more explorative generation, while a lower `temperature_factor` leads to a more conservative one (in particular, with `temperature_factor = 1` the generation is completely deterministic)"
      ]
    },
    {
      "cell_type": "markdown",
      "metadata": {
        "id": "TDPUFbixAiyx",
        "colab_type": "text"
      },
      "source": [
        "### ***3.1 Evaluation***\n",
        "\n"
      ]
    },
    {
      "cell_type": "code",
      "metadata": {
        "id": "CcnsT9XGA0OG",
        "colab_type": "code",
        "colab": {}
      },
      "source": [
        "from tensorflow.nn import softmax\n",
        "from text_processing.markers import unmark, MARKERS\n",
        "\n",
        "newline_token = tokenizer.encode('\\n')[0]\n",
        "\n",
        "def evaluate(inp_list, max_length=35, temperature_factor=1, verbose=False):\n",
        "  # the input is the tokenized string obtained from the given input list\n",
        "  input = tokenizer.encode('\\n'.join(inp_list))\n",
        "\n",
        "  # the encoder input is surrounded by a start and an end token\n",
        "  encoder_input = tf.expand_dims([tokenizer.vocab_size] + input + [tokenizer.vocab_size + 1], 0)\n",
        "\n",
        "  # the decoder input is the same sentence preceded by a start token\n",
        "  decoder_input = tf.expand_dims([tokenizer.vocab_size] + input, 0)\n",
        "\n",
        "  # the final output of the evaluation (initially, this is an empty list)\n",
        "  output = []\n",
        "\n",
        "  # we repeat the process to get the entire verse (until the end token or the newline token is predicted)\n",
        "  for i in range(max_length):\n",
        "    enc_padding_mask, combined_mask, dec_padding_mask = create_masks(encoder_input, decoder_input)  \n",
        "    logits, attention_weights = model(\n",
        "        encoder_input, decoder_input, False,\n",
        "        enc_padding_mask, combined_mask, dec_padding_mask\n",
        "    )\n",
        "\n",
        "    # we get the probabilities for the decoded token (the last one)\n",
        "    probabilities = softmax(logits[0, -1, :tokenizer.vocab_size]).numpy()\n",
        "\n",
        "    # we take a subset of possible tokens whose probability is at least 1/temperature_factor of the maximal one\n",
        "    indices = np.arange(tokenizer.vocab_size)[probabilities >= probabilities.max() / temperature_factor]\n",
        "\n",
        "    # we renormalize this subset using, again, a softmax activation\n",
        "    probabilities = softmax(probabilities[probabilities >= probabilities.max() / temperature_factor]).numpy()\n",
        "    \n",
        "    # the id is randomly chosen among the indices according to the computed probabilities\n",
        "    predicted_id = np.random.choice(indices, size=1, p=probabilities)[0]\n",
        "    \n",
        "    # if the token coincides with the nd token or the newline token, the generation is interrupted\n",
        "    if predicted_id == newline_token or predicted_id >= tokenizer.vocab_size:\n",
        "      break\n",
        "\n",
        "    # otherwise the token is appended both to the new decoder input and to the final output\n",
        "    decoder_input = tf.concat([decoder_input, [[predicted_id]]], axis=-1)\n",
        "    output.append(predicted_id)\n",
        "\n",
        "    if verbose:\n",
        "      print(tokenizer.decode([predicted_id]), end='')\n",
        "\n",
        "  return output, attention_weights"
      ],
      "execution_count": null,
      "outputs": []
    },
    {
      "cell_type": "code",
      "metadata": {
        "id": "wJQpqS9CB1kG",
        "colab_type": "code",
        "colab": {}
      },
      "source": [
        "def plot_attention_weights(attention, sentence, result, layer):\n",
        "  fig = plt.figure(figsize=(25, 25))  \n",
        "  sentence = tokenizer.encode(sentence)\n",
        "  attention = tf.squeeze(attention[layer], axis=0)\n",
        "  \n",
        "  for head in range(attention.shape[0]):\n",
        "    ax = fig.add_subplot(attention.shape[0], 1, head+1)\n",
        "    ax.matshow(attention[head][:-1, :], cmap='gray')\n",
        "    fontdict = {'fontsize': 18}    \n",
        "    ax.set_xticks(range(len(sentence)+2))\n",
        "    ax.set_yticks(range(len(result)))    \n",
        "    ax.set_ylim(len(result)-1.5, -0.5)\n",
        "    ax.set_xticklabels(['<start>'] + [tokenizer.decode([i]) for i in sentence] + ['<end>'], fontdict=fontdict, rotation=90)\n",
        "    ax.set_yticklabels([tokenizer.decode([i]) for i in result if 0 < i < tokenizer.vocab_size], fontdict=fontdict)\n",
        "    ax.set_xlabel('Head {}'.format(head+1))\n",
        "  \n",
        "  plt.tight_layout()\n",
        "  plt.show()"
      ],
      "execution_count": null,
      "outputs": []
    },
    {
      "cell_type": "code",
      "metadata": {
        "id": "_UIuvilWClPf",
        "colab_type": "code",
        "colab": {
          "base_uri": "https://localhost:8080/",
          "height": 1000
        },
        "outputId": "8c1392b4-0d2f-42b1-89fd-6537685a445a"
      },
      "source": [
        "i = 9\n",
        "sentence_list = divine_comedy_split[i:i+seq_length] + ['']\n",
        "\n",
        "sentence = '\\n'.join(sentence_list)\n",
        "target, attention_weights = evaluate(sentence_list)\n",
        "\n",
        "print('INPUT:')\n",
        "print(sentence)\n",
        "print()\n",
        "print('TARGET:')\n",
        "print(tokenizer.decode([t for t in target if 0 < t < tokenizer.vocab_size]))\n",
        "print()\n",
        "plot_attention_weights(attention_weights, sentence, target, 'decoder_layer3_block2')"
      ],
      "execution_count": null,
      "outputs": [
        {
          "output_type": "stream",
          "text": [
            "INPUT:\n",
            "=tercet=\n",
            "Tant' è amara che poco è più morte;\n",
            "ma per trattar del ben ch'i' vi trovai,\n",
            "\n",
            "\n",
            "TARGET:\n",
            "dirò de l'altre cose che tu mi porte.\n",
            "\n"
          ],
          "name": "stdout"
        },
        {
          "output_type": "display_data",
          "data": {
            "image/png": "[encoded data removed]",
            "text/plain": [
              "<Figure size 1800x1800 with 4 Axes>"
            ]
          },
          "metadata": {
            "tags": []
          }
        }
      ]
    },
    {
      "cell_type": "markdown",
      "metadata": {
        "id": "05Mk_Fqnjj2I",
        "colab_type": "text"
      },
      "source": [
        "### ***3.2 Generation***"
      ]
    },
    {
      "cell_type": "code",
      "metadata": {
        "id": "zyq4PC2hSL1Z",
        "colab_type": "code",
        "colab": {}
      },
      "source": [
        "def generate(\n",
        "    input_string=divine_comedy_marked[:386], # first three tercets of the comedy\n",
        "    max_iterations=250, end_marker=MARKERS['canto end'],\n",
        "    temperature_factor=1.0, verbose=False\n",
        "):\n",
        "  # at the beginning, the generated string is the encoding of the input string (plus a newline character)\n",
        "  generated_string = input_string\n",
        "\n",
        "  for i in range(max_iterations):\n",
        "    # the input list is made up of the last 'seq_length' verses (-1 for the last blank verse to be filled)\n",
        "    input_list = generated_string.split('\\n')[-seq_length-1:]\n",
        "\n",
        "    # the generated verse is then decoded\n",
        "    target, _ = evaluate(input_list, temperature_factor=temperature_factor, verbose=verbose)\n",
        "    generated_verse = tokenizer.decode(target)\n",
        "    if verbose:\n",
        "      print()\n",
        "\n",
        "    # if the verse coincides with the end marker, the generation is interrupted, otherwise it is appended with a newline\n",
        "    if generated_verse == end_marker:\n",
        "      break\n",
        "    generated_string += generated_verse + '\\n'\n",
        "  \n",
        "  # we finally return the decoded (and unmarked) string, excluding the input provided by the user\n",
        "  return unmark(generated_string[len(input_string):])"
      ],
      "execution_count": null,
      "outputs": []
    },
    {
      "cell_type": "code",
      "metadata": {
        "id": "svS82ObpMh2o",
        "colab_type": "code",
        "colab": {
          "base_uri": "https://localhost:8080/",
          "height": 1000
        },
        "outputId": "b1978f3f-ba12-441c-ca42-ccaae456fd13"
      },
      "source": [
        "generated_canto = generate(temperature_factor=1.0, verbose=True)"
      ],
      "execution_count": null,
      "outputs": [
        {
          "output_type": "stream",
          "text": [
            "O dolce padre mio, figliuol, che fai\n",
            "tanto maravigliar, se tu vuo' ch'i' credi;\n",
            "ma sol che 'l tua maggior mai fai mai\".\n",
            "=tercet=\n",
            "\"O superba che, tu che i miei piedi\n",
            "non vedi omai; ma vedi quivi\n",
            "si volse con li occhi mi saran li piedi.\n",
            "=tercet=\n",
            "Io dirò che i veri i dirci andavi,\n",
            "per lo ducio mio, disse: \"Figliuol, vedi;\n",
            "non ricorditi di me che vien n'accvi.\n",
            "=tercet=\n",
            "Ma perché Dio ne porse la guancia\n",
            "possanza parlar contenti sì per pace,\n",
            "che queste parole che con questa lancia.\n",
            "=tercet=\n",
            "Lo duca mio si volse tutte quelle,\n",
            "che 'l voler con ha fatto ha tolto 'l passo,\n",
            "e di volger di fuor di quelle cale.\n",
            "=tercet=\n",
            "Lo mondo è uopo di quel ch'ello inferno,\n",
            "due è di dubbi, un disposto di sotto:\n",
            "che 'l peccato ov' elli è sì scerna.\n",
            "=tercet=\n",
            "ove dinanzi dissi: \"U' ben disposto\n",
            "che là nacque e nacque il secondo nacque,\n",
            "e qui non distinse mai è disposto\".\n",
            "=tercet=\n",
            "Qual si poscia tanto amore in tanto nacque\n",
            "che l'amore e creature l'ultimo fronte\n",
            "in tanto si poscia si preliba,\n",
            "=tercet=\n",
            "quando l'anima mia benigna fronte,\n",
            "sì che non si volse, e a la sua persona,\n",
            "se l'altre cose son Iuste pronte.\n",
            "=tercet=\n",
            "\"O navicella di quella dottrina\n",
            "che, se le guance colpe che d'i piedi,\n",
            "\"Che coscïenza m'è per viva?\".\n",
            "=tercet=\n",
            "\"Io veggio tu\", diss' io, \"Provenzan come,\n",
            "che se' sù ne l'altra bolgia il corta,\n",
            "sì che per me s'accorse che mai che mi\".\n",
            "=tercet=\n",
            "Ond' ei rispuose: \"Nel suo confonda\n",
            "suo volesso, che tu m'avea parlato?\n",
            "Però non puoi che 'l viso seconda,\n",
            "=tercet=\n",
            "già misero in sé del vento parlaro,\n",
            "mi volsi: \"Forse tanti occhi piega,\n",
            "che 'l sole e 'l mio potere era spargo.\n",
            "=tercet=\n",
            "Ma tanto che 'l maestro mi leva\n",
            "per quella che ne porga per le esser tarda,\n",
            "più che 'l mio amore avea più dica.\n",
            "=tercet=\n",
            "Però che 'l dolor mi fé arda,\n",
            "guardando, come carità che qui nome,\n",
            "ver' me perché 'l tuo voler mi tarda\".\n",
            "=tercet=\n",
            "E io a lui: \"L'angel che tu vuole\n",
            "tirarticular del tuo fratei misura,\n",
            "che questi cortesi a le parole piene\".\n",
            "=tercet=\n",
            "Allor si volse del suo proprio voglia,\n",
            "disse: \"Questi è domandato 'l grave;\n",
            "e se 'l grifon a lui far non s'om lia\".\n",
            "=tercet=\n",
            "Così ti sarò pria: \"Solo nave\n",
            "di là, che qui non fosse ancora,\n",
            "molte genti di là, che più ricevette.\n",
            "=tercet=\n",
            "D'altro, non per non neve ancor tesa,\n",
            "non si saria solo, ancor non possa,\n",
            "non possando di schiera che 'n quella tesa.\n",
            "=tercet=\n",
            "Quell' anime che là giù nascossa,\n",
            "non rimase infino al fine, il gran sì ratto,\n",
            "che 'l cibo di sol tutti s'ella possa.\n",
            "=tercet=\n",
            "Non aver di tal parlava cotanto merto,\n",
            "ch'io dissi: \"Rispondi, o che piacerti\n",
            "non si sarà, per maravigliar santo\".\n",
            "=tercet=\n",
            "Come da peccator da me s'accorsi\n",
            "dal serpente, che 'l porco al viso m'era,\n",
            "volgendo i passi volse sù concorse,\n",
            "=tercet=\n",
            "quando i due volte che 'n assera,\n",
            "possa ne la testa, e 'l maestro, e 'l poggio,\n",
            "sì che più tosto al mondo verso non sera.\n",
            "=tercet=\n",
            "Ed elli a me: \"L'acqua è più cheggio,\n",
            "sì che di là da sé avea faccia;\n",
            "poi che 'l piè de l'amore e l'omo apparve.\n",
            "=tercet=\n",
            "Tutti che per la gente alleva traccia,\n",
            "per lo mio duca, e con disse: \"Aspetta,\n",
            "poi che 'l terzo de li altri faccia\".\n",
            "=tercet=\n",
            "Ristetti, e vidi mostrar fretta\n",
            "parte nel viso mio sì parlar d'un viso,\n",
            "che più savere ad altra parventa.\n",
            "=tercet=\n",
            "A questo regno mortal fu del riso\n",
            "che prima a noi venìa sù da noi venturo:\n",
            "o voleva tutto ad ogne parte viso.\n",
            "=tercet=\n",
            "Questa parte ne li avversari furo\n",
            "li occhi miei veder, ch'era da mano\n",
            "di più a man destra più oltre chiaro.\n",
            "=tercet=\n",
            "Questa prima rota, di sé stesso\n",
            "che 'l mar fu; e sì l'essempro superbo,\n",
            "che 'l sol qui non sarò dar è messo.\n",
            "=tercet=\n",
            "\"Tu vedi che, se tu vuo' ch'i' non diviso,\n",
            "prima che tu fossi di pace in sul dosso\n",
            "che mai non s'inferna non si fosse,\n",
            "=tercet=\n",
            "che da quella valle il cor che s'attuffo,\n",
            "li ritornai innanzi sù li aprì li bocca:\n",
            "\"Volgiti con li con essi aperto\".\n",
            "=tercet=\n",
            "E io a lui: \"Volgiti qua la bocca\n",
            "muoversi a veder, se non potesse,\n",
            "come quel che 'l sol si porca incontca\".\n",
            "=tercet=\n",
            "Poi disse: \"Così conviene che tu mi prese\n",
            "questi che ti priego regge mi dipigne,\n",
            "sì che 'l tuo si fece tutto è seme.\n",
            "=tercet=\n",
            "E se la tua paradiso, tanto che cigne\n",
            "incontrammo a noi un poco a noi ebbe,\n",
            "che tanto il gran sava tutte strade.\n",
            "=tercet=\n",
            "L'altra terra addorna al vostro stremo,\n",
            "vinto di lume, tutto 'l mondo superbo,\n",
            "come a noi volger su la vivemo.\n",
            "=tercet=\n",
            "Se prima usase l'ultimo dì igno,\n",
            "sì che Dio volesso a la mente esse,\n",
            "non è perché alcun del mondo sangue?\".\n",
            "=tercet=\n",
            "Ed elli a me: \"Tuo vero verde messe?\n",
            "Ben lasso tu; ma, e farò uno\n",
            "e uminar sareste pacificato hi ostsse.\n",
            "=tercet=\n",
            "E quando s'allegra d'un giro cosso\n",
            "d'un viso, per esso disdegno, trista\n",
            "di loro essere il detto è posso\".\n",
            "=tercet=\n",
            "E io: \"Maestro, quel ch'io veggio vista\n",
            "che tu m'è nel mondo che sì li accordi,\n",
            "ch'alcuna cosa non è tacuta\".\n",
            "=tercet=\n",
            "E cominciò: \"Costui che ricordmi\n",
            "per cui la morte m'è? e comandato,\n",
            "com' io m'hai perduto, ancor concorda,\n",
            "=tercet=\n",
            "piendo mi parea ne la fiamma amato\n",
            "posta cui bene a lui amor parve,\n",
            "come fu colui che sanza amato.\n",
            "=tercet=\n",
            "Or sappi che se tu vuo' che noi move,\n",
            "s'ella togliessi da la vita sinistra,\n",
            "in che 'l nome suo si ricevesse.\n",
            "=tercet=\n",
            "Risposto che 'n poco la roccia la gelta,\n",
            "nol ti concedesse alcuna costa\n",
            "onde fa l'arco più del mondo si rivta.\n",
            "=tercet=\n",
            "Quivi è rimirando in tanto disposta,\n",
            "che 'l nominar da quivi i Calboli,\n",
            "che da sé avesse la prima luce.\n",
            "=tercet=\n",
            "Non averebbe in sé fatica cinger toni,\n",
            "che venendo par qui tutti la coperta\n",
            "con esse e sostenea sé far prossi.\n",
            "=tercet=\n",
            "Quivi eran le gine di sì ferma,\n",
            "che s'io vidi per me per una rota,\n",
            "intorno di sé facea conforma.\n",
            "=tercet=\n",
            "E quinci e quindi stolterato grotta,\n",
            "sì che in terra si raccontavia,\n",
            "che di salir più assai avea detta.\n",
            "=tercet=\n",
            "E cominciò: \"Quando fui del grazia lonia?\n",
            "=endofcanto=\n"
          ],
          "name": "stdout"
        }
      ]
    },
    {
      "cell_type": "code",
      "metadata": {
        "id": "9ZGLN8aIMl_F",
        "colab_type": "code",
        "colab": {
          "base_uri": "https://localhost:8080/",
          "height": 144
        },
        "outputId": "22f9f5b1-15de-45ce-e5d1-caa468c33d87"
      },
      "source": [
        "from metrics.metrics import evaluate\n",
        "\n",
        "evaluate(generated_canto, divine_comedy)"
      ],
      "execution_count": null,
      "outputs": [
        {
          "output_type": "execute_result",
          "data": {
            "text/plain": [
              "{'Hendecasyllabicness': 0.8979206963249516,\n",
              " 'Plagiarism': 0.9640831758034026,\n",
              " 'Putative Tercets': 47,\n",
              " 'Repetitivity': 0.9905482041587902,\n",
              " 'Rhymeness': 0.8913043478260869,\n",
              " 'Text Structuredness': 1.0,\n",
              " 'Well-Formed Tercets': 47}"
            ]
          },
          "metadata": {
            "tags": []
          },
          "execution_count": 22
        }
      ]
    },
    {
      "cell_type": "code",
      "metadata": {
        "id": "jdFQSPZeW3Tg",
        "colab_type": "code",
        "colab": {
          "base_uri": "https://localhost:8080/",
          "height": 1000
        },
        "outputId": "2ae247ee-7d0d-486a-d473-0942e1ef5bc2"
      },
      "source": [
        "print(generated_canto)"
      ],
      "execution_count": null,
      "outputs": [
        {
          "output_type": "stream",
          "text": [
            "O dolce padre mio, figliuol, che fai\n",
            "tanto maravigliar, se tu vuo' ch'i' credi;\n",
            "ma sol che 'l tua maggior mai fai mai\".\n",
            "\n",
            "\"O superba che, tu che i miei piedi\n",
            "non vedi omai; ma vedi quivi\n",
            "si volse con li occhi mi saran li piedi.\n",
            "\n",
            "Io dirò che i veri i dirci andavi,\n",
            "per lo ducio mio, disse: \"Figliuol, vedi;\n",
            "non ricorditi di me che vien n'accvi.\n",
            "\n",
            "Ma perché Dio ne porse la guancia\n",
            "possanza parlar contenti sì per pace,\n",
            "che queste parole che con questa lancia.\n",
            "\n",
            "Lo duca mio si volse tutte quelle,\n",
            "che 'l voler con ha fatto ha tolto 'l passo,\n",
            "e di volger di fuor di quelle cale.\n",
            "\n",
            "Lo mondo è uopo di quel ch'ello inferno,\n",
            "due è di dubbi, un disposto di sotto:\n",
            "che 'l peccato ov' elli è sì scerna.\n",
            "\n",
            "ove dinanzi dissi: \"U' ben disposto\n",
            "che là nacque e nacque il secondo nacque,\n",
            "e qui non distinse mai è disposto\".\n",
            "\n",
            "Qual si poscia tanto amore in tanto nacque\n",
            "che l'amore e creature l'ultimo fronte\n",
            "in tanto si poscia si preliba,\n",
            "\n",
            "quando l'anima mia benigna fronte,\n",
            "sì che non si volse, e a la sua persona,\n",
            "se l'altre cose son Iuste pronte.\n",
            "\n",
            "\"O navicella di quella dottrina\n",
            "che, se le guance colpe che d'i piedi,\n",
            "\"Che coscïenza m'è per viva?\".\n",
            "\n",
            "\"Io veggio tu\", diss' io, \"Provenzan come,\n",
            "che se' sù ne l'altra bolgia il corta,\n",
            "sì che per me s'accorse che mai che mi\".\n",
            "\n",
            "Ond' ei rispuose: \"Nel suo confonda\n",
            "suo volesso, che tu m'avea parlato?\n",
            "Però non puoi che 'l viso seconda,\n",
            "\n",
            "già misero in sé del vento parlaro,\n",
            "mi volsi: \"Forse tanti occhi piega,\n",
            "che 'l sole e 'l mio potere era spargo.\n",
            "\n",
            "Ma tanto che 'l maestro mi leva\n",
            "per quella che ne porga per le esser tarda,\n",
            "più che 'l mio amore avea più dica.\n",
            "\n",
            "Però che 'l dolor mi fé arda,\n",
            "guardando, come carità che qui nome,\n",
            "ver' me perché 'l tuo voler mi tarda\".\n",
            "\n",
            "E io a lui: \"L'angel che tu vuole\n",
            "tirarticular del tuo fratei misura,\n",
            "che questi cortesi a le parole piene\".\n",
            "\n",
            "Allor si volse del suo proprio voglia,\n",
            "disse: \"Questi è domandato 'l grave;\n",
            "e se 'l grifon a lui far non s'om lia\".\n",
            "\n",
            "Così ti sarò pria: \"Solo nave\n",
            "di là, che qui non fosse ancora,\n",
            "molte genti di là, che più ricevette.\n",
            "\n",
            "D'altro, non per non neve ancor tesa,\n",
            "non si saria solo, ancor non possa,\n",
            "non possando di schiera che 'n quella tesa.\n",
            "\n",
            "Quell' anime che là giù nascossa,\n",
            "non rimase infino al fine, il gran sì ratto,\n",
            "che 'l cibo di sol tutti s'ella possa.\n",
            "\n",
            "Non aver di tal parlava cotanto merto,\n",
            "ch'io dissi: \"Rispondi, o che piacerti\n",
            "non si sarà, per maravigliar santo\".\n",
            "\n",
            "Come da peccator da me s'accorsi\n",
            "dal serpente, che 'l porco al viso m'era,\n",
            "volgendo i passi volse sù concorse,\n",
            "\n",
            "quando i due volte che 'n assera,\n",
            "possa ne la testa, e 'l maestro, e 'l poggio,\n",
            "sì che più tosto al mondo verso non sera.\n",
            "\n",
            "Ed elli a me: \"L'acqua è più cheggio,\n",
            "sì che di là da sé avea faccia;\n",
            "poi che 'l piè de l'amore e l'omo apparve.\n",
            "\n",
            "Tutti che per la gente alleva traccia,\n",
            "per lo mio duca, e con disse: \"Aspetta,\n",
            "poi che 'l terzo de li altri faccia\".\n",
            "\n",
            "Ristetti, e vidi mostrar fretta\n",
            "parte nel viso mio sì parlar d'un viso,\n",
            "che più savere ad altra parventa.\n",
            "\n",
            "A questo regno mortal fu del riso\n",
            "che prima a noi venìa sù da noi venturo:\n",
            "o voleva tutto ad ogne parte viso.\n",
            "\n",
            "Questa parte ne li avversari furo\n",
            "li occhi miei veder, ch'era da mano\n",
            "di più a man destra più oltre chiaro.\n",
            "\n",
            "Questa prima rota, di sé stesso\n",
            "che 'l mar fu; e sì l'essempro superbo,\n",
            "che 'l sol qui non sarò dar è messo.\n",
            "\n",
            "\"Tu vedi che, se tu vuo' ch'i' non diviso,\n",
            "prima che tu fossi di pace in sul dosso\n",
            "che mai non s'inferna non si fosse,\n",
            "\n",
            "che da quella valle il cor che s'attuffo,\n",
            "li ritornai innanzi sù li aprì li bocca:\n",
            "\"Volgiti con li con essi aperto\".\n",
            "\n",
            "E io a lui: \"Volgiti qua la bocca\n",
            "muoversi a veder, se non potesse,\n",
            "come quel che 'l sol si porca incontca\".\n",
            "\n",
            "Poi disse: \"Così conviene che tu mi prese\n",
            "questi che ti priego regge mi dipigne,\n",
            "sì che 'l tuo si fece tutto è seme.\n",
            "\n",
            "E se la tua paradiso, tanto che cigne\n",
            "incontrammo a noi un poco a noi ebbe,\n",
            "che tanto il gran sava tutte strade.\n",
            "\n",
            "L'altra terra addorna al vostro stremo,\n",
            "vinto di lume, tutto 'l mondo superbo,\n",
            "come a noi volger su la vivemo.\n",
            "\n",
            "Se prima usase l'ultimo dì igno,\n",
            "sì che Dio volesso a la mente esse,\n",
            "non è perché alcun del mondo sangue?\".\n",
            "\n",
            "Ed elli a me: \"Tuo vero verde messe?\n",
            "Ben lasso tu; ma, e farò uno\n",
            "e uminar sareste pacificato hi ostsse.\n",
            "\n",
            "E quando s'allegra d'un giro cosso\n",
            "d'un viso, per esso disdegno, trista\n",
            "di loro essere il detto è posso\".\n",
            "\n",
            "E io: \"Maestro, quel ch'io veggio vista\n",
            "che tu m'è nel mondo che sì li accordi,\n",
            "ch'alcuna cosa non è tacuta\".\n",
            "\n",
            "E cominciò: \"Costui che ricordmi\n",
            "per cui la morte m'è? e comandato,\n",
            "com' io m'hai perduto, ancor concorda,\n",
            "\n",
            "piendo mi parea ne la fiamma amato\n",
            "posta cui bene a lui amor parve,\n",
            "come fu colui che sanza amato.\n",
            "\n",
            "Or sappi che se tu vuo' che noi move,\n",
            "s'ella togliessi da la vita sinistra,\n",
            "in che 'l nome suo si ricevesse.\n",
            "\n",
            "Risposto che 'n poco la roccia la gelta,\n",
            "nol ti concedesse alcuna costa\n",
            "onde fa l'arco più del mondo si rivta.\n",
            "\n",
            "Quivi è rimirando in tanto disposta,\n",
            "che 'l nominar da quivi i Calboli,\n",
            "che da sé avesse la prima luce.\n",
            "\n",
            "Non averebbe in sé fatica cinger toni,\n",
            "che venendo par qui tutti la coperta\n",
            "con esse e sostenea sé far prossi.\n",
            "\n",
            "Quivi eran le gine di sì ferma,\n",
            "che s'io vidi per me per una rota,\n",
            "intorno di sé facea conforma.\n",
            "\n",
            "E quinci e quindi stolterato grotta,\n",
            "sì che in terra si raccontavia,\n",
            "che di salir più assai avea detta.\n",
            "\n",
            "E cominciò: \"Quando fui del grazia lonia?\n",
            "\n"
          ],
          "name": "stdout"
        }
      ]
    }
  ]
}