{
 "nbformat": 4,
 "nbformat_minor": 0,
 "metadata": {
  "kernelspec": {
   "display_name": "Python 3",
   "language": "python",
   "name": "python3"
  },
  "language_info": {
   "codemirror_mode": {
    "name": "ipython",
    "version": 2
   },
   "file_extension": ".py",
   "mimetype": "text/x-python",
   "name": "python",
   "nbconvert_exporter": "python",
   "pygments_lexer": "ipython2",
   "version": "2.7.6"
  },
  "colab": {
   "name": "DeepComedy.ipynb",
   "provenance": []
  }
 },
 "cells": [
  {
   "cell_type": "markdown",
   "metadata": {
    "collapsed": true,
    "pycharm": {
     "name": "#%% md\n"
    },
    "id": "MwUioxNUGeX6",
    "colab_type": "text"
   },
   "source": [
    "# Deep Comedy\n",
    "\n",
    "RNN which aims at reproducing Dante’s style, using the Divine Comedy for training."
   ]
  },
  {
   "cell_type": "code",
   "metadata": {
    "id": "kZGu8Mc2IRUv",
    "colab_type": "code",
    "colab": {
     "base_uri": "https://localhost:8080/",
     "height": 126
    },
    "outputId": "bf22faed-2bf2-4d9d-db9f-bece16353d1d"
   },
   "source": [
    "import re\n",
    "\n",
    "!wget https://raw.githubusercontent.com/dlang/druntime/master/benchmark/extra-files/dante.txt\n",
    "\n",
    "divine_comedy = open('dante.txt', 'rb').read().decode(encoding='utf-8')\n",
    "divine_comedy = divine_comedy[divine_comedy.find('Nel'):]\n",
    "divine_comedy = re.sub('\\n\\n\\n\\n\\n.*\\n\\n\\n\\n\\n', '\\n\\n\\n\\n', divine_comedy)\n",
    "divine_comedy = re.sub('\\n\\n\\n\\n.*\\n\\n\\n', '\\n\\n\\n', divine_comedy)"
   ],
   "execution_count": 1,
   "outputs": [
    {
     "name": "stdout",
     "output_type": "stream",
     "text": [
      "--2020-07-29 16:09:05--  https://raw.githubusercontent.com/dlang/druntime/master/benchmark/extra-files/dante.txt\r\n",
      "Caricato certificato CA \"/etc/ssl/certs/ca-certificates.crt\"\r\n",
      "\r\n",
      "Risoluzione di raw.githubusercontent.com (raw.githubusercontent.com)... 151.101.240.133\r\n",
      "Connessione a raw.githubusercontent.com (raw.githubusercontent.com)|151.101.240.133|:443... connesso.\r\n",
      "Richiesta HTTP inviata, in attesa di risposta... 200 OK\r\n",
      "Lunghezza: 557042 (544K) [text/plain]\r\n",
      "Salvataggio in: \"dante.txt\"\r\n",
      "\r\n",
      "dante.txt           100%[===================>] 543,99K  1,20MB/s    in 0,4s    \r\n",
      "\r\n",
      "2020-07-29 16:09:06 (1,20 MB/s) - \"dante.txt\" salvato [557042/557042]\r\n",
      "\r\n"
     ]
    }
   ]
  },
  {
   "cell_type": "code",
   "metadata": {
    "id": "j3NytBZIJooN",
    "colab_type": "code",
    "colab": {}
   },
   "source": [
    "from metrics import evaluate\n",
    "\n",
    "evaluate(divine_comedy)"
   ],
   "execution_count": 2,
   "outputs": [
    {
     "name": "stdout",
     "output_type": "stream",
     "text": [
      "\n",
      "Number of putative terzine: 4786\n",
      "Number of well formed terzine: 4711\n",
      "Average textucturedness: 0.984382345259859\n",
      "Average hendecasyllabicness: 0.9688953320082314\n",
      "Average rhymeness: 0.9940552016985136\n"
     ]
    }
   ]
  }
 ]
}